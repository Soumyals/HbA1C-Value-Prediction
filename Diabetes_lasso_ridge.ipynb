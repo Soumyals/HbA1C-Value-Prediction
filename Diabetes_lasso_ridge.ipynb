{
  "nbformat": 4,
  "nbformat_minor": 0,
  "metadata": {
    "colab": {
      "provenance": []
    },
    "kernelspec": {
      "name": "python3",
      "display_name": "Python 3"
    },
    "language_info": {
      "name": "python"
    }
  },
  "cells": [
    {
      "cell_type": "code",
      "source": [
        "import numpy as np\n",
        "import pandas as pd\n",
        "import matplotlib.pyplot as plt\n",
        "import seaborn as sns\n",
        "import sklearn\n",
        "from sklearn.linear_model import SGDRegressor\n",
        "from sklearn.preprocessing import StandardScaler\n",
        "from sklearn import linear_model\n",
        "from sklearn.linear_model import LinearRegression\n",
        "from sklearn.linear_model import Ridge, Lasso\n",
        "from sklearn.pipeline import Pipeline\n",
        "from sklearn.model_selection import GridSearchCV\n",
        "from sklearn import metrics\n",
        "from sklearn.metrics import mean_squared_error, mean_absolute_error\n",
        "from sklearn.model_selection import train_test_split, cross_val_score\n",
        "\n"
      ],
      "metadata": {
        "id": "CCv9OB7BNNM4"
      },
      "execution_count": null,
      "outputs": []
    },
    {
      "cell_type": "code",
      "source": [
        "data=pd.read_csv('/content/cgm.csv')"
      ],
      "metadata": {
        "id": "0Fap1ZS5NVi8"
      },
      "execution_count": null,
      "outputs": []
    },
    {
      "cell_type": "code",
      "source": [
        "data.info()"
      ],
      "metadata": {
        "colab": {
          "base_uri": "https://localhost:8080/"
        },
        "id": "PNhKoXleNeud",
        "outputId": "ea233405-13f4-45a0-aee8-7fbb08e0c459"
      },
      "execution_count": null,
      "outputs": [
        {
          "output_type": "stream",
          "name": "stdout",
          "text": [
            "<class 'pandas.core.frame.DataFrame'>\n",
            "RangeIndex: 1936 entries, 0 to 1935\n",
            "Data columns (total 2 columns):\n",
            " #   Column           Non-Null Count  Dtype  \n",
            "---  ------           --------------  -----  \n",
            " 0   Time of Reading  1936 non-null   object \n",
            " 1   blood            1936 non-null   float64\n",
            "dtypes: float64(1), object(1)\n",
            "memory usage: 30.4+ KB\n"
          ]
        }
      ]
    },
    {
      "cell_type": "code",
      "source": [
        "data.head()"
      ],
      "metadata": {
        "colab": {
          "base_uri": "https://localhost:8080/",
          "height": 206
        },
        "id": "-nkyCEJ3NlfK",
        "outputId": "3527b0ff-f7ff-43da-e251-6afe1d903912"
      },
      "execution_count": null,
      "outputs": [
        {
          "output_type": "execute_result",
          "data": {
            "text/plain": [
              "                Time of Reading   blood\n",
              "0  Tue Mar 26 09:17:00 IST 2024  184.76\n",
              "1  Tue Mar 26 09:32:00 IST 2024  175.95\n",
              "2  Tue Mar 26 09:47:00 IST 2024  171.59\n",
              "3  Tue Mar 26 10:02:00 IST 2024  164.00\n",
              "4  Tue Mar 26 10:17:00 IST 2024  161.85"
            ],
            "text/html": [
              "\n",
              "  <div id=\"df-ff662a3c-71bf-476c-8470-28ed9a1a76e2\" class=\"colab-df-container\">\n",
              "    <div>\n",
              "<style scoped>\n",
              "    .dataframe tbody tr th:only-of-type {\n",
              "        vertical-align: middle;\n",
              "    }\n",
              "\n",
              "    .dataframe tbody tr th {\n",
              "        vertical-align: top;\n",
              "    }\n",
              "\n",
              "    .dataframe thead th {\n",
              "        text-align: right;\n",
              "    }\n",
              "</style>\n",
              "<table border=\"1\" class=\"dataframe\">\n",
              "  <thead>\n",
              "    <tr style=\"text-align: right;\">\n",
              "      <th></th>\n",
              "      <th>Time of Reading</th>\n",
              "      <th>blood</th>\n",
              "    </tr>\n",
              "  </thead>\n",
              "  <tbody>\n",
              "    <tr>\n",
              "      <th>0</th>\n",
              "      <td>Tue Mar 26 09:17:00 IST 2024</td>\n",
              "      <td>184.76</td>\n",
              "    </tr>\n",
              "    <tr>\n",
              "      <th>1</th>\n",
              "      <td>Tue Mar 26 09:32:00 IST 2024</td>\n",
              "      <td>175.95</td>\n",
              "    </tr>\n",
              "    <tr>\n",
              "      <th>2</th>\n",
              "      <td>Tue Mar 26 09:47:00 IST 2024</td>\n",
              "      <td>171.59</td>\n",
              "    </tr>\n",
              "    <tr>\n",
              "      <th>3</th>\n",
              "      <td>Tue Mar 26 10:02:00 IST 2024</td>\n",
              "      <td>164.00</td>\n",
              "    </tr>\n",
              "    <tr>\n",
              "      <th>4</th>\n",
              "      <td>Tue Mar 26 10:17:00 IST 2024</td>\n",
              "      <td>161.85</td>\n",
              "    </tr>\n",
              "  </tbody>\n",
              "</table>\n",
              "</div>\n",
              "    <div class=\"colab-df-buttons\">\n",
              "\n",
              "  <div class=\"colab-df-container\">\n",
              "    <button class=\"colab-df-convert\" onclick=\"convertToInteractive('df-ff662a3c-71bf-476c-8470-28ed9a1a76e2')\"\n",
              "            title=\"Convert this dataframe to an interactive table.\"\n",
              "            style=\"display:none;\">\n",
              "\n",
              "  <svg xmlns=\"http://www.w3.org/2000/svg\" height=\"24px\" viewBox=\"0 -960 960 960\">\n",
              "    <path d=\"M120-120v-720h720v720H120Zm60-500h600v-160H180v160Zm220 220h160v-160H400v160Zm0 220h160v-160H400v160ZM180-400h160v-160H180v160Zm440 0h160v-160H620v160ZM180-180h160v-160H180v160Zm440 0h160v-160H620v160Z\"/>\n",
              "  </svg>\n",
              "    </button>\n",
              "\n",
              "  <style>\n",
              "    .colab-df-container {\n",
              "      display:flex;\n",
              "      gap: 12px;\n",
              "    }\n",
              "\n",
              "    .colab-df-convert {\n",
              "      background-color: #E8F0FE;\n",
              "      border: none;\n",
              "      border-radius: 50%;\n",
              "      cursor: pointer;\n",
              "      display: none;\n",
              "      fill: #1967D2;\n",
              "      height: 32px;\n",
              "      padding: 0 0 0 0;\n",
              "      width: 32px;\n",
              "    }\n",
              "\n",
              "    .colab-df-convert:hover {\n",
              "      background-color: #E2EBFA;\n",
              "      box-shadow: 0px 1px 2px rgba(60, 64, 67, 0.3), 0px 1px 3px 1px rgba(60, 64, 67, 0.15);\n",
              "      fill: #174EA6;\n",
              "    }\n",
              "\n",
              "    .colab-df-buttons div {\n",
              "      margin-bottom: 4px;\n",
              "    }\n",
              "\n",
              "    [theme=dark] .colab-df-convert {\n",
              "      background-color: #3B4455;\n",
              "      fill: #D2E3FC;\n",
              "    }\n",
              "\n",
              "    [theme=dark] .colab-df-convert:hover {\n",
              "      background-color: #434B5C;\n",
              "      box-shadow: 0px 1px 3px 1px rgba(0, 0, 0, 0.15);\n",
              "      filter: drop-shadow(0px 1px 2px rgba(0, 0, 0, 0.3));\n",
              "      fill: #FFFFFF;\n",
              "    }\n",
              "  </style>\n",
              "\n",
              "    <script>\n",
              "      const buttonEl =\n",
              "        document.querySelector('#df-ff662a3c-71bf-476c-8470-28ed9a1a76e2 button.colab-df-convert');\n",
              "      buttonEl.style.display =\n",
              "        google.colab.kernel.accessAllowed ? 'block' : 'none';\n",
              "\n",
              "      async function convertToInteractive(key) {\n",
              "        const element = document.querySelector('#df-ff662a3c-71bf-476c-8470-28ed9a1a76e2');\n",
              "        const dataTable =\n",
              "          await google.colab.kernel.invokeFunction('convertToInteractive',\n",
              "                                                    [key], {});\n",
              "        if (!dataTable) return;\n",
              "\n",
              "        const docLinkHtml = 'Like what you see? Visit the ' +\n",
              "          '<a target=\"_blank\" href=https://colab.research.google.com/notebooks/data_table.ipynb>data table notebook</a>'\n",
              "          + ' to learn more about interactive tables.';\n",
              "        element.innerHTML = '';\n",
              "        dataTable['output_type'] = 'display_data';\n",
              "        await google.colab.output.renderOutput(dataTable, element);\n",
              "        const docLink = document.createElement('div');\n",
              "        docLink.innerHTML = docLinkHtml;\n",
              "        element.appendChild(docLink);\n",
              "      }\n",
              "    </script>\n",
              "  </div>\n",
              "\n",
              "\n",
              "<div id=\"df-72b37924-1356-4133-8283-09e8028e9c18\">\n",
              "  <button class=\"colab-df-quickchart\" onclick=\"quickchart('df-72b37924-1356-4133-8283-09e8028e9c18')\"\n",
              "            title=\"Suggest charts\"\n",
              "            style=\"display:none;\">\n",
              "\n",
              "<svg xmlns=\"http://www.w3.org/2000/svg\" height=\"24px\"viewBox=\"0 0 24 24\"\n",
              "     width=\"24px\">\n",
              "    <g>\n",
              "        <path d=\"M19 3H5c-1.1 0-2 .9-2 2v14c0 1.1.9 2 2 2h14c1.1 0 2-.9 2-2V5c0-1.1-.9-2-2-2zM9 17H7v-7h2v7zm4 0h-2V7h2v10zm4 0h-2v-4h2v4z\"/>\n",
              "    </g>\n",
              "</svg>\n",
              "  </button>\n",
              "\n",
              "<style>\n",
              "  .colab-df-quickchart {\n",
              "      --bg-color: #E8F0FE;\n",
              "      --fill-color: #1967D2;\n",
              "      --hover-bg-color: #E2EBFA;\n",
              "      --hover-fill-color: #174EA6;\n",
              "      --disabled-fill-color: #AAA;\n",
              "      --disabled-bg-color: #DDD;\n",
              "  }\n",
              "\n",
              "  [theme=dark] .colab-df-quickchart {\n",
              "      --bg-color: #3B4455;\n",
              "      --fill-color: #D2E3FC;\n",
              "      --hover-bg-color: #434B5C;\n",
              "      --hover-fill-color: #FFFFFF;\n",
              "      --disabled-bg-color: #3B4455;\n",
              "      --disabled-fill-color: #666;\n",
              "  }\n",
              "\n",
              "  .colab-df-quickchart {\n",
              "    background-color: var(--bg-color);\n",
              "    border: none;\n",
              "    border-radius: 50%;\n",
              "    cursor: pointer;\n",
              "    display: none;\n",
              "    fill: var(--fill-color);\n",
              "    height: 32px;\n",
              "    padding: 0;\n",
              "    width: 32px;\n",
              "  }\n",
              "\n",
              "  .colab-df-quickchart:hover {\n",
              "    background-color: var(--hover-bg-color);\n",
              "    box-shadow: 0 1px 2px rgba(60, 64, 67, 0.3), 0 1px 3px 1px rgba(60, 64, 67, 0.15);\n",
              "    fill: var(--button-hover-fill-color);\n",
              "  }\n",
              "\n",
              "  .colab-df-quickchart-complete:disabled,\n",
              "  .colab-df-quickchart-complete:disabled:hover {\n",
              "    background-color: var(--disabled-bg-color);\n",
              "    fill: var(--disabled-fill-color);\n",
              "    box-shadow: none;\n",
              "  }\n",
              "\n",
              "  .colab-df-spinner {\n",
              "    border: 2px solid var(--fill-color);\n",
              "    border-color: transparent;\n",
              "    border-bottom-color: var(--fill-color);\n",
              "    animation:\n",
              "      spin 1s steps(1) infinite;\n",
              "  }\n",
              "\n",
              "  @keyframes spin {\n",
              "    0% {\n",
              "      border-color: transparent;\n",
              "      border-bottom-color: var(--fill-color);\n",
              "      border-left-color: var(--fill-color);\n",
              "    }\n",
              "    20% {\n",
              "      border-color: transparent;\n",
              "      border-left-color: var(--fill-color);\n",
              "      border-top-color: var(--fill-color);\n",
              "    }\n",
              "    30% {\n",
              "      border-color: transparent;\n",
              "      border-left-color: var(--fill-color);\n",
              "      border-top-color: var(--fill-color);\n",
              "      border-right-color: var(--fill-color);\n",
              "    }\n",
              "    40% {\n",
              "      border-color: transparent;\n",
              "      border-right-color: var(--fill-color);\n",
              "      border-top-color: var(--fill-color);\n",
              "    }\n",
              "    60% {\n",
              "      border-color: transparent;\n",
              "      border-right-color: var(--fill-color);\n",
              "    }\n",
              "    80% {\n",
              "      border-color: transparent;\n",
              "      border-right-color: var(--fill-color);\n",
              "      border-bottom-color: var(--fill-color);\n",
              "    }\n",
              "    90% {\n",
              "      border-color: transparent;\n",
              "      border-bottom-color: var(--fill-color);\n",
              "    }\n",
              "  }\n",
              "</style>\n",
              "\n",
              "  <script>\n",
              "    async function quickchart(key) {\n",
              "      const quickchartButtonEl =\n",
              "        document.querySelector('#' + key + ' button');\n",
              "      quickchartButtonEl.disabled = true;  // To prevent multiple clicks.\n",
              "      quickchartButtonEl.classList.add('colab-df-spinner');\n",
              "      try {\n",
              "        const charts = await google.colab.kernel.invokeFunction(\n",
              "            'suggestCharts', [key], {});\n",
              "      } catch (error) {\n",
              "        console.error('Error during call to suggestCharts:', error);\n",
              "      }\n",
              "      quickchartButtonEl.classList.remove('colab-df-spinner');\n",
              "      quickchartButtonEl.classList.add('colab-df-quickchart-complete');\n",
              "    }\n",
              "    (() => {\n",
              "      let quickchartButtonEl =\n",
              "        document.querySelector('#df-72b37924-1356-4133-8283-09e8028e9c18 button');\n",
              "      quickchartButtonEl.style.display =\n",
              "        google.colab.kernel.accessAllowed ? 'block' : 'none';\n",
              "    })();\n",
              "  </script>\n",
              "</div>\n",
              "\n",
              "    </div>\n",
              "  </div>\n"
            ],
            "application/vnd.google.colaboratory.intrinsic+json": {
              "type": "dataframe",
              "variable_name": "data",
              "summary": "{\n  \"name\": \"data\",\n  \"rows\": 1936,\n  \"fields\": [\n    {\n      \"column\": \"Time of Reading\",\n      \"properties\": {\n        \"dtype\": \"object\",\n        \"num_unique_values\": 1936,\n        \"samples\": [\n          \"Mon Apr 01 15:47:00 IST 2024\",\n          \"Fri Apr 05 05:17:00 IST 2024\",\n          \"Fri Apr 05 06:47:00 IST 2024\"\n        ],\n        \"semantic_type\": \"\",\n        \"description\": \"\"\n      }\n    },\n    {\n      \"column\": \"blood\",\n      \"properties\": {\n        \"dtype\": \"number\",\n        \"std\": 49.56012293137161,\n        \"min\": 71.05,\n        \"max\": 382.69,\n        \"num_unique_values\": 1772,\n        \"samples\": [\n          126.52,\n          186.6,\n          132.53\n        ],\n        \"semantic_type\": \"\",\n        \"description\": \"\"\n      }\n    }\n  ]\n}"
            }
          },
          "metadata": {},
          "execution_count": 4
        }
      ]
    },
    {
      "cell_type": "code",
      "source": [
        "data.tail()"
      ],
      "metadata": {
        "colab": {
          "base_uri": "https://localhost:8080/",
          "height": 206
        },
        "id": "D4PikeV_M_k3",
        "outputId": "741b3897-ccdc-4247-d263-3ad11f573e4f"
      },
      "execution_count": null,
      "outputs": [
        {
          "output_type": "execute_result",
          "data": {
            "text/plain": [
              "                   Time of Reading   blood\n",
              "1931  Wed Apr 17 10:26:00 IST 2024  152.87\n",
              "1932  Wed Apr 17 10:41:00 IST 2024  133.54\n",
              "1933  Wed Apr 17 10:56:00 IST 2024  132.39\n",
              "1934  Wed Apr 17 11:11:00 IST 2024  128.90\n",
              "1935  Wed Apr 17 11:26:00 IST 2024  124.42"
            ],
            "text/html": [
              "\n",
              "  <div id=\"df-797e4be6-2aa1-442d-a93f-147438afd30c\" class=\"colab-df-container\">\n",
              "    <div>\n",
              "<style scoped>\n",
              "    .dataframe tbody tr th:only-of-type {\n",
              "        vertical-align: middle;\n",
              "    }\n",
              "\n",
              "    .dataframe tbody tr th {\n",
              "        vertical-align: top;\n",
              "    }\n",
              "\n",
              "    .dataframe thead th {\n",
              "        text-align: right;\n",
              "    }\n",
              "</style>\n",
              "<table border=\"1\" class=\"dataframe\">\n",
              "  <thead>\n",
              "    <tr style=\"text-align: right;\">\n",
              "      <th></th>\n",
              "      <th>Time of Reading</th>\n",
              "      <th>blood</th>\n",
              "    </tr>\n",
              "  </thead>\n",
              "  <tbody>\n",
              "    <tr>\n",
              "      <th>1931</th>\n",
              "      <td>Wed Apr 17 10:26:00 IST 2024</td>\n",
              "      <td>152.87</td>\n",
              "    </tr>\n",
              "    <tr>\n",
              "      <th>1932</th>\n",
              "      <td>Wed Apr 17 10:41:00 IST 2024</td>\n",
              "      <td>133.54</td>\n",
              "    </tr>\n",
              "    <tr>\n",
              "      <th>1933</th>\n",
              "      <td>Wed Apr 17 10:56:00 IST 2024</td>\n",
              "      <td>132.39</td>\n",
              "    </tr>\n",
              "    <tr>\n",
              "      <th>1934</th>\n",
              "      <td>Wed Apr 17 11:11:00 IST 2024</td>\n",
              "      <td>128.90</td>\n",
              "    </tr>\n",
              "    <tr>\n",
              "      <th>1935</th>\n",
              "      <td>Wed Apr 17 11:26:00 IST 2024</td>\n",
              "      <td>124.42</td>\n",
              "    </tr>\n",
              "  </tbody>\n",
              "</table>\n",
              "</div>\n",
              "    <div class=\"colab-df-buttons\">\n",
              "\n",
              "  <div class=\"colab-df-container\">\n",
              "    <button class=\"colab-df-convert\" onclick=\"convertToInteractive('df-797e4be6-2aa1-442d-a93f-147438afd30c')\"\n",
              "            title=\"Convert this dataframe to an interactive table.\"\n",
              "            style=\"display:none;\">\n",
              "\n",
              "  <svg xmlns=\"http://www.w3.org/2000/svg\" height=\"24px\" viewBox=\"0 -960 960 960\">\n",
              "    <path d=\"M120-120v-720h720v720H120Zm60-500h600v-160H180v160Zm220 220h160v-160H400v160Zm0 220h160v-160H400v160ZM180-400h160v-160H180v160Zm440 0h160v-160H620v160ZM180-180h160v-160H180v160Zm440 0h160v-160H620v160Z\"/>\n",
              "  </svg>\n",
              "    </button>\n",
              "\n",
              "  <style>\n",
              "    .colab-df-container {\n",
              "      display:flex;\n",
              "      gap: 12px;\n",
              "    }\n",
              "\n",
              "    .colab-df-convert {\n",
              "      background-color: #E8F0FE;\n",
              "      border: none;\n",
              "      border-radius: 50%;\n",
              "      cursor: pointer;\n",
              "      display: none;\n",
              "      fill: #1967D2;\n",
              "      height: 32px;\n",
              "      padding: 0 0 0 0;\n",
              "      width: 32px;\n",
              "    }\n",
              "\n",
              "    .colab-df-convert:hover {\n",
              "      background-color: #E2EBFA;\n",
              "      box-shadow: 0px 1px 2px rgba(60, 64, 67, 0.3), 0px 1px 3px 1px rgba(60, 64, 67, 0.15);\n",
              "      fill: #174EA6;\n",
              "    }\n",
              "\n",
              "    .colab-df-buttons div {\n",
              "      margin-bottom: 4px;\n",
              "    }\n",
              "\n",
              "    [theme=dark] .colab-df-convert {\n",
              "      background-color: #3B4455;\n",
              "      fill: #D2E3FC;\n",
              "    }\n",
              "\n",
              "    [theme=dark] .colab-df-convert:hover {\n",
              "      background-color: #434B5C;\n",
              "      box-shadow: 0px 1px 3px 1px rgba(0, 0, 0, 0.15);\n",
              "      filter: drop-shadow(0px 1px 2px rgba(0, 0, 0, 0.3));\n",
              "      fill: #FFFFFF;\n",
              "    }\n",
              "  </style>\n",
              "\n",
              "    <script>\n",
              "      const buttonEl =\n",
              "        document.querySelector('#df-797e4be6-2aa1-442d-a93f-147438afd30c button.colab-df-convert');\n",
              "      buttonEl.style.display =\n",
              "        google.colab.kernel.accessAllowed ? 'block' : 'none';\n",
              "\n",
              "      async function convertToInteractive(key) {\n",
              "        const element = document.querySelector('#df-797e4be6-2aa1-442d-a93f-147438afd30c');\n",
              "        const dataTable =\n",
              "          await google.colab.kernel.invokeFunction('convertToInteractive',\n",
              "                                                    [key], {});\n",
              "        if (!dataTable) return;\n",
              "\n",
              "        const docLinkHtml = 'Like what you see? Visit the ' +\n",
              "          '<a target=\"_blank\" href=https://colab.research.google.com/notebooks/data_table.ipynb>data table notebook</a>'\n",
              "          + ' to learn more about interactive tables.';\n",
              "        element.innerHTML = '';\n",
              "        dataTable['output_type'] = 'display_data';\n",
              "        await google.colab.output.renderOutput(dataTable, element);\n",
              "        const docLink = document.createElement('div');\n",
              "        docLink.innerHTML = docLinkHtml;\n",
              "        element.appendChild(docLink);\n",
              "      }\n",
              "    </script>\n",
              "  </div>\n",
              "\n",
              "\n",
              "<div id=\"df-98121948-6767-45d7-b006-f73ea49ca184\">\n",
              "  <button class=\"colab-df-quickchart\" onclick=\"quickchart('df-98121948-6767-45d7-b006-f73ea49ca184')\"\n",
              "            title=\"Suggest charts\"\n",
              "            style=\"display:none;\">\n",
              "\n",
              "<svg xmlns=\"http://www.w3.org/2000/svg\" height=\"24px\"viewBox=\"0 0 24 24\"\n",
              "     width=\"24px\">\n",
              "    <g>\n",
              "        <path d=\"M19 3H5c-1.1 0-2 .9-2 2v14c0 1.1.9 2 2 2h14c1.1 0 2-.9 2-2V5c0-1.1-.9-2-2-2zM9 17H7v-7h2v7zm4 0h-2V7h2v10zm4 0h-2v-4h2v4z\"/>\n",
              "    </g>\n",
              "</svg>\n",
              "  </button>\n",
              "\n",
              "<style>\n",
              "  .colab-df-quickchart {\n",
              "      --bg-color: #E8F0FE;\n",
              "      --fill-color: #1967D2;\n",
              "      --hover-bg-color: #E2EBFA;\n",
              "      --hover-fill-color: #174EA6;\n",
              "      --disabled-fill-color: #AAA;\n",
              "      --disabled-bg-color: #DDD;\n",
              "  }\n",
              "\n",
              "  [theme=dark] .colab-df-quickchart {\n",
              "      --bg-color: #3B4455;\n",
              "      --fill-color: #D2E3FC;\n",
              "      --hover-bg-color: #434B5C;\n",
              "      --hover-fill-color: #FFFFFF;\n",
              "      --disabled-bg-color: #3B4455;\n",
              "      --disabled-fill-color: #666;\n",
              "  }\n",
              "\n",
              "  .colab-df-quickchart {\n",
              "    background-color: var(--bg-color);\n",
              "    border: none;\n",
              "    border-radius: 50%;\n",
              "    cursor: pointer;\n",
              "    display: none;\n",
              "    fill: var(--fill-color);\n",
              "    height: 32px;\n",
              "    padding: 0;\n",
              "    width: 32px;\n",
              "  }\n",
              "\n",
              "  .colab-df-quickchart:hover {\n",
              "    background-color: var(--hover-bg-color);\n",
              "    box-shadow: 0 1px 2px rgba(60, 64, 67, 0.3), 0 1px 3px 1px rgba(60, 64, 67, 0.15);\n",
              "    fill: var(--button-hover-fill-color);\n",
              "  }\n",
              "\n",
              "  .colab-df-quickchart-complete:disabled,\n",
              "  .colab-df-quickchart-complete:disabled:hover {\n",
              "    background-color: var(--disabled-bg-color);\n",
              "    fill: var(--disabled-fill-color);\n",
              "    box-shadow: none;\n",
              "  }\n",
              "\n",
              "  .colab-df-spinner {\n",
              "    border: 2px solid var(--fill-color);\n",
              "    border-color: transparent;\n",
              "    border-bottom-color: var(--fill-color);\n",
              "    animation:\n",
              "      spin 1s steps(1) infinite;\n",
              "  }\n",
              "\n",
              "  @keyframes spin {\n",
              "    0% {\n",
              "      border-color: transparent;\n",
              "      border-bottom-color: var(--fill-color);\n",
              "      border-left-color: var(--fill-color);\n",
              "    }\n",
              "    20% {\n",
              "      border-color: transparent;\n",
              "      border-left-color: var(--fill-color);\n",
              "      border-top-color: var(--fill-color);\n",
              "    }\n",
              "    30% {\n",
              "      border-color: transparent;\n",
              "      border-left-color: var(--fill-color);\n",
              "      border-top-color: var(--fill-color);\n",
              "      border-right-color: var(--fill-color);\n",
              "    }\n",
              "    40% {\n",
              "      border-color: transparent;\n",
              "      border-right-color: var(--fill-color);\n",
              "      border-top-color: var(--fill-color);\n",
              "    }\n",
              "    60% {\n",
              "      border-color: transparent;\n",
              "      border-right-color: var(--fill-color);\n",
              "    }\n",
              "    80% {\n",
              "      border-color: transparent;\n",
              "      border-right-color: var(--fill-color);\n",
              "      border-bottom-color: var(--fill-color);\n",
              "    }\n",
              "    90% {\n",
              "      border-color: transparent;\n",
              "      border-bottom-color: var(--fill-color);\n",
              "    }\n",
              "  }\n",
              "</style>\n",
              "\n",
              "  <script>\n",
              "    async function quickchart(key) {\n",
              "      const quickchartButtonEl =\n",
              "        document.querySelector('#' + key + ' button');\n",
              "      quickchartButtonEl.disabled = true;  // To prevent multiple clicks.\n",
              "      quickchartButtonEl.classList.add('colab-df-spinner');\n",
              "      try {\n",
              "        const charts = await google.colab.kernel.invokeFunction(\n",
              "            'suggestCharts', [key], {});\n",
              "      } catch (error) {\n",
              "        console.error('Error during call to suggestCharts:', error);\n",
              "      }\n",
              "      quickchartButtonEl.classList.remove('colab-df-spinner');\n",
              "      quickchartButtonEl.classList.add('colab-df-quickchart-complete');\n",
              "    }\n",
              "    (() => {\n",
              "      let quickchartButtonEl =\n",
              "        document.querySelector('#df-98121948-6767-45d7-b006-f73ea49ca184 button');\n",
              "      quickchartButtonEl.style.display =\n",
              "        google.colab.kernel.accessAllowed ? 'block' : 'none';\n",
              "    })();\n",
              "  </script>\n",
              "</div>\n",
              "\n",
              "    </div>\n",
              "  </div>\n"
            ],
            "application/vnd.google.colaboratory.intrinsic+json": {
              "type": "dataframe",
              "repr_error": "0"
            }
          },
          "metadata": {},
          "execution_count": 5
        }
      ]
    },
    {
      "cell_type": "code",
      "source": [
        "df= pd.DataFrame(data)"
      ],
      "metadata": {
        "id": "MVZ6jBhuOt-o"
      },
      "execution_count": null,
      "outputs": []
    },
    {
      "cell_type": "code",
      "source": [
        "data['Time of Reading']=pd.to_datetime(df['Time of Reading'])"
      ],
      "metadata": {
        "id": "nTkd-7JjNr9Y",
        "colab": {
          "base_uri": "https://localhost:8080/"
        },
        "outputId": "f39427db-950d-43e7-9a70-61bf6d2b8c67"
      },
      "execution_count": null,
      "outputs": [
        {
          "output_type": "stream",
          "name": "stderr",
          "text": [
            "/usr/local/lib/python3.10/dist-packages/dateutil/parser/_parser.py:1207: UnknownTimezoneWarning: tzname IST identified but not understood.  Pass `tzinfos` argument in order to correctly return a timezone-aware datetime.  In a future version, this will raise an exception.\n",
            "  warnings.warn(\"tzname {tzname} identified but not understood.  \"\n"
          ]
        }
      ]
    },
    {
      "cell_type": "code",
      "source": [
        "print(data)"
      ],
      "metadata": {
        "colab": {
          "base_uri": "https://localhost:8080/"
        },
        "id": "OB1RVwmIN6OJ",
        "outputId": "a6fa7b89-802a-4cbb-dc4f-7233e27013c7"
      },
      "execution_count": null,
      "outputs": [
        {
          "output_type": "stream",
          "name": "stdout",
          "text": [
            "         Time of Reading   blood\n",
            "0    2024-03-26 09:17:00  184.76\n",
            "1    2024-03-26 09:32:00  175.95\n",
            "2    2024-03-26 09:47:00  171.59\n",
            "3    2024-03-26 10:02:00  164.00\n",
            "4    2024-03-26 10:17:00  161.85\n",
            "...                  ...     ...\n",
            "1931 2024-04-17 10:26:00  152.87\n",
            "1932 2024-04-17 10:41:00  133.54\n",
            "1933 2024-04-17 10:56:00  132.39\n",
            "1934 2024-04-17 11:11:00  128.90\n",
            "1935 2024-04-17 11:26:00  124.42\n",
            "\n",
            "[1936 rows x 2 columns]\n"
          ]
        }
      ]
    },
    {
      "cell_type": "code",
      "source": [
        "df['Time of Reading'] = pd.to_datetime(df['Time of Reading'])"
      ],
      "metadata": {
        "id": "T0zbCIrtODjx",
        "colab": {
          "base_uri": "https://localhost:8080/"
        },
        "outputId": "48d502ee-fe3e-4dcf-8e64-140707368ce6"
      },
      "execution_count": null,
      "outputs": [
        {
          "output_type": "stream",
          "name": "stderr",
          "text": [
            "/usr/local/lib/python3.10/dist-packages/dateutil/parser/_parser.py:1207: UnknownTimezoneWarning: tzname IST identified but not understood.  Pass `tzinfos` argument in order to correctly return a timezone-aware datetime.  In a future version, this will raise an exception.\n",
            "  warnings.warn(\"tzname {tzname} identified but not understood.  \"\n"
          ]
        }
      ]
    },
    {
      "cell_type": "code",
      "source": [
        "df['date'] = df['Time of Reading'].dt.date\n",
        "\n",
        "print(df)"
      ],
      "metadata": {
        "colab": {
          "base_uri": "https://localhost:8080/"
        },
        "id": "ror1hQqtOfMh",
        "outputId": "2d6a53cf-7f41-4d5a-9530-4d059d2f316e"
      },
      "execution_count": null,
      "outputs": [
        {
          "output_type": "stream",
          "name": "stdout",
          "text": [
            "         Time of Reading   blood        date\n",
            "0    2024-03-26 09:17:00  184.76  2024-03-26\n",
            "1    2024-03-26 09:32:00  175.95  2024-03-26\n",
            "2    2024-03-26 09:47:00  171.59  2024-03-26\n",
            "3    2024-03-26 10:02:00  164.00  2024-03-26\n",
            "4    2024-03-26 10:17:00  161.85  2024-03-26\n",
            "...                  ...     ...         ...\n",
            "1931 2024-04-17 10:26:00  152.87  2024-04-17\n",
            "1932 2024-04-17 10:41:00  133.54  2024-04-17\n",
            "1933 2024-04-17 10:56:00  132.39  2024-04-17\n",
            "1934 2024-04-17 11:11:00  128.90  2024-04-17\n",
            "1935 2024-04-17 11:26:00  124.42  2024-04-17\n",
            "\n",
            "[1936 rows x 3 columns]\n"
          ]
        }
      ]
    },
    {
      "cell_type": "code",
      "source": [
        "unique_dates = df['date'].unique()"
      ],
      "metadata": {
        "id": "3CvVeRfwPGSw"
      },
      "execution_count": null,
      "outputs": []
    },
    {
      "cell_type": "code",
      "source": [
        "unique_dates_df = pd.DataFrame(unique_dates, columns=['UniqueDates'])\n",
        "print(unique_dates_df)"
      ],
      "metadata": {
        "colab": {
          "base_uri": "https://localhost:8080/"
        },
        "id": "gMr8oG6oPvCK",
        "outputId": "ff74e4a0-a682-4bd8-d40f-4614a6e140d3"
      },
      "execution_count": null,
      "outputs": [
        {
          "output_type": "stream",
          "name": "stdout",
          "text": [
            "   UniqueDates\n",
            "0   2024-03-26\n",
            "1   2024-03-27\n",
            "2   2024-03-28\n",
            "3   2024-03-29\n",
            "4   2024-03-30\n",
            "5   2024-03-31\n",
            "6   2024-04-01\n",
            "7   2024-04-02\n",
            "8   2024-04-03\n",
            "9   2024-04-04\n",
            "10  2024-04-05\n",
            "11  2024-04-06\n",
            "12  2024-04-07\n",
            "13  2024-04-08\n",
            "14  2024-04-09\n",
            "15  2024-04-10\n",
            "16  2024-04-11\n",
            "17  2024-04-12\n",
            "18  2024-04-13\n",
            "19  2024-04-14\n",
            "20  2024-04-15\n",
            "21  2024-04-16\n",
            "22  2024-04-17\n"
          ]
        }
      ]
    },
    {
      "cell_type": "code",
      "source": [
        "if 'blood' in df.columns:\n",
        "    print(\"Column 'blood' exists in the DataFrame.\")\n",
        "else:\n",
        "    print(\"Column 'blood' does not exist in the DataFrame.\")"
      ],
      "metadata": {
        "colab": {
          "base_uri": "https://localhost:8080/"
        },
        "id": "-tG8P5cUNWQA",
        "outputId": "d50b8ba5-aa82-4bb6-8e9c-29a40d6f8dc2"
      },
      "execution_count": null,
      "outputs": [
        {
          "output_type": "stream",
          "name": "stdout",
          "text": [
            "Column 'blood' exists in the DataFrame.\n"
          ]
        }
      ]
    },
    {
      "cell_type": "code",
      "source": [
        "column_names = df.columns\n",
        "print(column_names)"
      ],
      "metadata": {
        "colab": {
          "base_uri": "https://localhost:8080/"
        },
        "id": "htjT_fBWNrHe",
        "outputId": "47d67d11-0143-4eb5-cc36-5ea4c723e6e6"
      },
      "execution_count": null,
      "outputs": [
        {
          "output_type": "stream",
          "name": "stdout",
          "text": [
            "Index(['Time of Reading', 'blood', 'date'], dtype='object')\n"
          ]
        }
      ]
    },
    {
      "cell_type": "code",
      "source": [
        "print(df['blood'])\n"
      ],
      "metadata": {
        "colab": {
          "base_uri": "https://localhost:8080/"
        },
        "id": "wK5bfRHkSvDv",
        "outputId": "3673d468-6db0-49a5-a5a6-a47d93a4597e"
      },
      "execution_count": null,
      "outputs": [
        {
          "output_type": "stream",
          "name": "stdout",
          "text": [
            "0       184.76\n",
            "1       175.95\n",
            "2       171.59\n",
            "3       164.00\n",
            "4       161.85\n",
            "         ...  \n",
            "1931    152.87\n",
            "1932    133.54\n",
            "1933    132.39\n",
            "1934    128.90\n",
            "1935    124.42\n",
            "Name: blood, Length: 1936, dtype: float64\n"
          ]
        }
      ]
    },
    {
      "cell_type": "code",
      "source": [
        "mean_values=df.groupby('date')['blood'].mean()\n",
        "print(mean_values)"
      ],
      "metadata": {
        "colab": {
          "base_uri": "https://localhost:8080/"
        },
        "id": "-WDbLclLTqew",
        "outputId": "56e3bafa-d6bf-4e33-f5d7-83d1970d0852"
      },
      "execution_count": null,
      "outputs": [
        {
          "output_type": "stream",
          "name": "stdout",
          "text": [
            "date\n",
            "2024-03-26    154.868814\n",
            "2024-03-27    182.556667\n",
            "2024-03-28    191.195208\n",
            "2024-03-29    224.264479\n",
            "2024-03-30    212.284681\n",
            "2024-03-31    203.904667\n",
            "2024-04-01    216.347647\n",
            "2024-04-02    174.003034\n",
            "2024-04-03    201.152292\n",
            "2024-04-04    166.131354\n",
            "2024-04-05    159.797579\n",
            "2024-04-06    170.313936\n",
            "2024-04-07    174.570729\n",
            "2024-04-08    162.449121\n",
            "2024-04-09    160.513563\n",
            "2024-04-10    157.097407\n",
            "2024-04-11    155.040500\n",
            "2024-04-12    139.787917\n",
            "2024-04-13    162.178854\n",
            "2024-04-14    143.790521\n",
            "2024-04-15    151.263958\n",
            "2024-04-16    148.971146\n",
            "2024-04-17    121.407174\n",
            "Name: blood, dtype: float64\n"
          ]
        }
      ]
    },
    {
      "cell_type": "code",
      "source": [
        "mean_values_df=pd.DataFrame(mean_values)\n",
        "print(mean_values_df)"
      ],
      "metadata": {
        "colab": {
          "base_uri": "https://localhost:8080/"
        },
        "id": "JJL93LYLT0lp",
        "outputId": "78be8f5f-77e4-44cd-9a99-b3c18f9f2f75"
      },
      "execution_count": null,
      "outputs": [
        {
          "output_type": "stream",
          "name": "stdout",
          "text": [
            "                 blood\n",
            "date                  \n",
            "2024-03-26  154.868814\n",
            "2024-03-27  182.556667\n",
            "2024-03-28  191.195208\n",
            "2024-03-29  224.264479\n",
            "2024-03-30  212.284681\n",
            "2024-03-31  203.904667\n",
            "2024-04-01  216.347647\n",
            "2024-04-02  174.003034\n",
            "2024-04-03  201.152292\n",
            "2024-04-04  166.131354\n",
            "2024-04-05  159.797579\n",
            "2024-04-06  170.313936\n",
            "2024-04-07  174.570729\n",
            "2024-04-08  162.449121\n",
            "2024-04-09  160.513563\n",
            "2024-04-10  157.097407\n",
            "2024-04-11  155.040500\n",
            "2024-04-12  139.787917\n",
            "2024-04-13  162.178854\n",
            "2024-04-14  143.790521\n",
            "2024-04-15  151.263958\n",
            "2024-04-16  148.971146\n",
            "2024-04-17  121.407174\n"
          ]
        }
      ]
    },
    {
      "cell_type": "code",
      "source": [
        "mean_values_df= mean_values.reset_index()\n",
        "print(mean_values_df)"
      ],
      "metadata": {
        "colab": {
          "base_uri": "https://localhost:8080/"
        },
        "id": "q3te7S_0ZxCx",
        "outputId": "0424f74b-516a-4ae4-88ec-e8dba58b7216"
      },
      "execution_count": null,
      "outputs": [
        {
          "output_type": "stream",
          "name": "stdout",
          "text": [
            "          date       blood\n",
            "0   2024-03-26  154.868814\n",
            "1   2024-03-27  182.556667\n",
            "2   2024-03-28  191.195208\n",
            "3   2024-03-29  224.264479\n",
            "4   2024-03-30  212.284681\n",
            "5   2024-03-31  203.904667\n",
            "6   2024-04-01  216.347647\n",
            "7   2024-04-02  174.003034\n",
            "8   2024-04-03  201.152292\n",
            "9   2024-04-04  166.131354\n",
            "10  2024-04-05  159.797579\n",
            "11  2024-04-06  170.313936\n",
            "12  2024-04-07  174.570729\n",
            "13  2024-04-08  162.449121\n",
            "14  2024-04-09  160.513563\n",
            "15  2024-04-10  157.097407\n",
            "16  2024-04-11  155.040500\n",
            "17  2024-04-12  139.787917\n",
            "18  2024-04-13  162.178854\n",
            "19  2024-04-14  143.790521\n",
            "20  2024-04-15  151.263958\n",
            "21  2024-04-16  148.971146\n",
            "22  2024-04-17  121.407174\n"
          ]
        }
      ]
    },
    {
      "cell_type": "code",
      "source": [
        "mean_values_df['dates']=pd.to_datetime(mean_values_df['date'])\n",
        "print(mean_values_df)"
      ],
      "metadata": {
        "colab": {
          "base_uri": "https://localhost:8080/"
        },
        "id": "scvmChphKUVi",
        "outputId": "53ecdde7-65fb-469b-9c9d-669801d71221"
      },
      "execution_count": null,
      "outputs": [
        {
          "output_type": "stream",
          "name": "stdout",
          "text": [
            "          date       blood      dates\n",
            "0   2024-03-26  154.868814 2024-03-26\n",
            "1   2024-03-27  182.556667 2024-03-27\n",
            "2   2024-03-28  191.195208 2024-03-28\n",
            "3   2024-03-29  224.264479 2024-03-29\n",
            "4   2024-03-30  212.284681 2024-03-30\n",
            "5   2024-03-31  203.904667 2024-03-31\n",
            "6   2024-04-01  216.347647 2024-04-01\n",
            "7   2024-04-02  174.003034 2024-04-02\n",
            "8   2024-04-03  201.152292 2024-04-03\n",
            "9   2024-04-04  166.131354 2024-04-04\n",
            "10  2024-04-05  159.797579 2024-04-05\n",
            "11  2024-04-06  170.313936 2024-04-06\n",
            "12  2024-04-07  174.570729 2024-04-07\n",
            "13  2024-04-08  162.449121 2024-04-08\n",
            "14  2024-04-09  160.513563 2024-04-09\n",
            "15  2024-04-10  157.097407 2024-04-10\n",
            "16  2024-04-11  155.040500 2024-04-11\n",
            "17  2024-04-12  139.787917 2024-04-12\n",
            "18  2024-04-13  162.178854 2024-04-13\n",
            "19  2024-04-14  143.790521 2024-04-14\n",
            "20  2024-04-15  151.263958 2024-04-15\n",
            "21  2024-04-16  148.971146 2024-04-16\n",
            "22  2024-04-17  121.407174 2024-04-17\n"
          ]
        }
      ]
    },
    {
      "cell_type": "code",
      "source": [
        "mean_values_df['days']=mean_values_df['dates'].dt.day_name()\n",
        "print(mean_values_df)"
      ],
      "metadata": {
        "colab": {
          "base_uri": "https://localhost:8080/"
        },
        "id": "UsAoEd9OK8WF",
        "outputId": "e8e9f17a-72d5-4236-d6e3-ac8e4e8fe30d"
      },
      "execution_count": null,
      "outputs": [
        {
          "output_type": "stream",
          "name": "stdout",
          "text": [
            "          date       blood      dates       days\n",
            "0   2024-03-26  154.868814 2024-03-26    Tuesday\n",
            "1   2024-03-27  182.556667 2024-03-27  Wednesday\n",
            "2   2024-03-28  191.195208 2024-03-28   Thursday\n",
            "3   2024-03-29  224.264479 2024-03-29     Friday\n",
            "4   2024-03-30  212.284681 2024-03-30   Saturday\n",
            "5   2024-03-31  203.904667 2024-03-31     Sunday\n",
            "6   2024-04-01  216.347647 2024-04-01     Monday\n",
            "7   2024-04-02  174.003034 2024-04-02    Tuesday\n",
            "8   2024-04-03  201.152292 2024-04-03  Wednesday\n",
            "9   2024-04-04  166.131354 2024-04-04   Thursday\n",
            "10  2024-04-05  159.797579 2024-04-05     Friday\n",
            "11  2024-04-06  170.313936 2024-04-06   Saturday\n",
            "12  2024-04-07  174.570729 2024-04-07     Sunday\n",
            "13  2024-04-08  162.449121 2024-04-08     Monday\n",
            "14  2024-04-09  160.513563 2024-04-09    Tuesday\n",
            "15  2024-04-10  157.097407 2024-04-10  Wednesday\n",
            "16  2024-04-11  155.040500 2024-04-11   Thursday\n",
            "17  2024-04-12  139.787917 2024-04-12     Friday\n",
            "18  2024-04-13  162.178854 2024-04-13   Saturday\n",
            "19  2024-04-14  143.790521 2024-04-14     Sunday\n",
            "20  2024-04-15  151.263958 2024-04-15     Monday\n",
            "21  2024-04-16  148.971146 2024-04-16    Tuesday\n",
            "22  2024-04-17  121.407174 2024-04-17  Wednesday\n"
          ]
        }
      ]
    },
    {
      "cell_type": "code",
      "source": [
        "mean_values_df = mean_values_df.drop(columns=['date'])\n",
        "\n",
        "\n"
      ],
      "metadata": {
        "id": "KbaKXdAgL0PB"
      },
      "execution_count": null,
      "outputs": []
    },
    {
      "cell_type": "code",
      "source": [
        "print(mean_values_df)"
      ],
      "metadata": {
        "colab": {
          "base_uri": "https://localhost:8080/"
        },
        "id": "mHQ99E51NUBs",
        "outputId": "37b68a4c-3096-4583-c462-ae3c4aa59112"
      },
      "execution_count": null,
      "outputs": [
        {
          "output_type": "stream",
          "name": "stdout",
          "text": [
            "         blood      dates       days\n",
            "0   154.868814 2024-03-26    Tuesday\n",
            "1   182.556667 2024-03-27  Wednesday\n",
            "2   191.195208 2024-03-28   Thursday\n",
            "3   224.264479 2024-03-29     Friday\n",
            "4   212.284681 2024-03-30   Saturday\n",
            "5   203.904667 2024-03-31     Sunday\n",
            "6   216.347647 2024-04-01     Monday\n",
            "7   174.003034 2024-04-02    Tuesday\n",
            "8   201.152292 2024-04-03  Wednesday\n",
            "9   166.131354 2024-04-04   Thursday\n",
            "10  159.797579 2024-04-05     Friday\n",
            "11  170.313936 2024-04-06   Saturday\n",
            "12  174.570729 2024-04-07     Sunday\n",
            "13  162.449121 2024-04-08     Monday\n",
            "14  160.513563 2024-04-09    Tuesday\n",
            "15  157.097407 2024-04-10  Wednesday\n",
            "16  155.040500 2024-04-11   Thursday\n",
            "17  139.787917 2024-04-12     Friday\n",
            "18  162.178854 2024-04-13   Saturday\n",
            "19  143.790521 2024-04-14     Sunday\n",
            "20  151.263958 2024-04-15     Monday\n",
            "21  148.971146 2024-04-16    Tuesday\n",
            "22  121.407174 2024-04-17  Wednesday\n"
          ]
        }
      ]
    },
    {
      "cell_type": "code",
      "source": [
        "print(mean_values_df['days'])"
      ],
      "metadata": {
        "colab": {
          "base_uri": "https://localhost:8080/"
        },
        "id": "ES6nhzvie6Pt",
        "outputId": "ec33d100-7dee-4a55-eb3b-e1105e04061c"
      },
      "execution_count": null,
      "outputs": [
        {
          "output_type": "stream",
          "name": "stdout",
          "text": [
            "0       Tuesday\n",
            "1     Wednesday\n",
            "2      Thursday\n",
            "3        Friday\n",
            "4      Saturday\n",
            "5        Sunday\n",
            "6        Monday\n",
            "7       Tuesday\n",
            "8     Wednesday\n",
            "9      Thursday\n",
            "10       Friday\n",
            "11     Saturday\n",
            "12       Sunday\n",
            "13       Monday\n",
            "14      Tuesday\n",
            "15    Wednesday\n",
            "16     Thursday\n",
            "17       Friday\n",
            "18     Saturday\n",
            "19       Sunday\n",
            "20       Monday\n",
            "21      Tuesday\n",
            "22    Wednesday\n",
            "Name: days, dtype: object\n"
          ]
        }
      ]
    },
    {
      "cell_type": "code",
      "source": [
        "plt.bar(mean_values_df['dates'], mean_values_df['blood'])\n",
        "plt.xlabel('Date')\n",
        "plt.ylabel('Mean Value')\n",
        "plt.title('Mean Value by Date')\n",
        "plt.show()"
      ],
      "metadata": {
        "colab": {
          "base_uri": "https://localhost:8080/",
          "height": 472
        },
        "id": "4HCRERu3URuu",
        "outputId": "b9651e6b-6d58-4ddd-cbce-4cc9d729683b"
      },
      "execution_count": null,
      "outputs": [
        {
          "output_type": "display_data",
          "data": {
            "text/plain": [
              "<Figure size 640x480 with 1 Axes>"
            ],
            "image/png": "[encoded data removed]"
          },
          "metadata": {}
        }
      ]
    },
    {
      "cell_type": "code",
      "source": [
        "plt.scatter(mean_values_df['dates'], mean_values_df['blood'])\n",
        "plt.xlabel('Date')\n",
        "plt.ylabel('Mean Value')\n",
        "plt.title('Mean Value by Date')\n",
        "plt.show()"
      ],
      "metadata": {
        "colab": {
          "base_uri": "https://localhost:8080/",
          "height": 472
        },
        "id": "zJvTCtyNDHei",
        "outputId": "448cdbbd-80be-4b0c-e9e1-2a3019bdd04a"
      },
      "execution_count": null,
      "outputs": [
        {
          "output_type": "display_data",
          "data": {
            "text/plain": [
              "<Figure size 640x480 with 1 Axes>"
            ],
            "image/png": "[encoded data removed]"
          },
          "metadata": {}
        }
      ]
    },
    {
      "cell_type": "code",
      "source": [
        "intake=pd.read_csv('/content/food_intake.csv')"
      ],
      "metadata": {
        "id": "xgKlt1vZde96"
      },
      "execution_count": null,
      "outputs": []
    },
    {
      "cell_type": "code",
      "source": [
        "print(intake)"
      ],
      "metadata": {
        "colab": {
          "base_uri": "https://localhost:8080/"
        },
        "id": "4AfjXr-2m4Iy",
        "outputId": "70bf9273-4e08-4e87-ce0e-ba08f08e5043"
      },
      "execution_count": null,
      "outputs": [
        {
          "output_type": "stream",
          "name": "stdout",
          "text": [
            "         Day  total_carbs  total_protein  total_fibre  total_fats\n",
            "0     Monday        196.1           46.1         21.1        41.3\n",
            "1    Tuesday        142.1           30.3         17.2        21.2\n",
            "2  Wednesday        145.7           44.2         29.7        44.2\n",
            "3   Thursday        226.4           49.8         48.9        61.2\n",
            "4     Friday        144.4           35.2         25.2        38.6\n",
            "5   Saturday        206.1          145.8         33.3        54.0\n",
            "6     Sunday        260.4          117.0         56.1        62.3\n"
          ]
        }
      ]
    },
    {
      "cell_type": "code",
      "source": [
        "df4=pd.DataFrame(intake)"
      ],
      "metadata": {
        "id": "ELRVvGDzm5Mn"
      },
      "execution_count": null,
      "outputs": []
    },
    {
      "cell_type": "code",
      "source": [
        "print(df4)"
      ],
      "metadata": {
        "colab": {
          "base_uri": "https://localhost:8080/"
        },
        "id": "tGRlc5tHnFfq",
        "outputId": "144b7781-baa3-4737-8178-fbb3e637beb1"
      },
      "execution_count": null,
      "outputs": [
        {
          "output_type": "stream",
          "name": "stdout",
          "text": [
            "         Day  total_carbs  total_protein  total_fibre  total_fats\n",
            "0     Monday        196.1           46.1         21.1        41.3\n",
            "1    Tuesday        142.1           30.3         17.2        21.2\n",
            "2  Wednesday        145.7           44.2         29.7        44.2\n",
            "3   Thursday        226.4           49.8         48.9        61.2\n",
            "4     Friday        144.4           35.2         25.2        38.6\n",
            "5   Saturday        206.1          145.8         33.3        54.0\n",
            "6     Sunday        260.4          117.0         56.1        62.3\n"
          ]
        }
      ]
    },
    {
      "cell_type": "code",
      "source": [
        "df4 = df4.rename(columns={'Day': 'days'})\n"
      ],
      "metadata": {
        "id": "9SqiLImJnRiM"
      },
      "execution_count": null,
      "outputs": []
    },
    {
      "cell_type": "code",
      "source": [
        "print(df4)"
      ],
      "metadata": {
        "colab": {
          "base_uri": "https://localhost:8080/"
        },
        "id": "bwzsT_Elnkpc",
        "outputId": "fb2d4409-6455-4b50-d83e-e9739690bc18"
      },
      "execution_count": null,
      "outputs": [
        {
          "output_type": "stream",
          "name": "stdout",
          "text": [
            "        days  total_carbs  total_protein  total_fibre  total_fats\n",
            "0     Monday        196.1           46.1         21.1        41.3\n",
            "1    Tuesday        142.1           30.3         17.2        21.2\n",
            "2  Wednesday        145.7           44.2         29.7        44.2\n",
            "3   Thursday        226.4           49.8         48.9        61.2\n",
            "4     Friday        144.4           35.2         25.2        38.6\n",
            "5   Saturday        206.1          145.8         33.3        54.0\n",
            "6     Sunday        260.4          117.0         56.1        62.3\n"
          ]
        }
      ]
    },
    {
      "cell_type": "code",
      "source": [
        "mean_values_df = mean_values_df.join(df4.set_index('days'), on='days')\n"
      ],
      "metadata": {
        "id": "CdZJjtN81y_d"
      },
      "execution_count": null,
      "outputs": []
    },
    {
      "cell_type": "code",
      "source": [
        "print(mean_values_df)\n"
      ],
      "metadata": {
        "colab": {
          "base_uri": "https://localhost:8080/"
        },
        "id": "IVvEDT272idm",
        "outputId": "b03a4d93-c04e-400c-9354-81c201f60ed2"
      },
      "execution_count": null,
      "outputs": [
        {
          "output_type": "stream",
          "name": "stdout",
          "text": [
            "         blood      dates       days  total_carbs  total_protein  total_fibre  \\\n",
            "0   154.868814 2024-03-26    Tuesday        142.1           30.3         17.2   \n",
            "1   182.556667 2024-03-27  Wednesday        145.7           44.2         29.7   \n",
            "2   191.195208 2024-03-28   Thursday        226.4           49.8         48.9   \n",
            "3   224.264479 2024-03-29     Friday        144.4           35.2         25.2   \n",
            "4   212.284681 2024-03-30   Saturday        206.1          145.8         33.3   \n",
            "5   203.904667 2024-03-31     Sunday        260.4          117.0         56.1   \n",
            "6   216.347647 2024-04-01     Monday        196.1           46.1         21.1   \n",
            "7   174.003034 2024-04-02    Tuesday        142.1           30.3         17.2   \n",
            "8   201.152292 2024-04-03  Wednesday        145.7           44.2         29.7   \n",
            "9   166.131354 2024-04-04   Thursday        226.4           49.8         48.9   \n",
            "10  159.797579 2024-04-05     Friday        144.4           35.2         25.2   \n",
            "11  170.313936 2024-04-06   Saturday        206.1          145.8         33.3   \n",
            "12  174.570729 2024-04-07     Sunday        260.4          117.0         56.1   \n",
            "13  162.449121 2024-04-08     Monday        196.1           46.1         21.1   \n",
            "14  160.513563 2024-04-09    Tuesday        142.1           30.3         17.2   \n",
            "15  157.097407 2024-04-10  Wednesday        145.7           44.2         29.7   \n",
            "16  155.040500 2024-04-11   Thursday        226.4           49.8         48.9   \n",
            "17  139.787917 2024-04-12     Friday        144.4           35.2         25.2   \n",
            "18  162.178854 2024-04-13   Saturday        206.1          145.8         33.3   \n",
            "19  143.790521 2024-04-14     Sunday        260.4          117.0         56.1   \n",
            "20  151.263958 2024-04-15     Monday        196.1           46.1         21.1   \n",
            "21  148.971146 2024-04-16    Tuesday        142.1           30.3         17.2   \n",
            "22  121.407174 2024-04-17  Wednesday        145.7           44.2         29.7   \n",
            "\n",
            "    total_fats  \n",
            "0         21.2  \n",
            "1         44.2  \n",
            "2         61.2  \n",
            "3         38.6  \n",
            "4         54.0  \n",
            "5         62.3  \n",
            "6         41.3  \n",
            "7         21.2  \n",
            "8         44.2  \n",
            "9         61.2  \n",
            "10        38.6  \n",
            "11        54.0  \n",
            "12        62.3  \n",
            "13        41.3  \n",
            "14        21.2  \n",
            "15        44.2  \n",
            "16        61.2  \n",
            "17        38.6  \n",
            "18        54.0  \n",
            "19        62.3  \n",
            "20        41.3  \n",
            "21        21.2  \n",
            "22        44.2  \n"
          ]
        }
      ]
    },
    {
      "cell_type": "code",
      "source": [
        "columns_array = mean_values_df.columns.values\n",
        "\n",
        "print(columns_array)\n"
      ],
      "metadata": {
        "colab": {
          "base_uri": "https://localhost:8080/"
        },
        "id": "ON8XpJ8u8v6y",
        "outputId": "f7304f2e-21b6-4146-f78b-b10d19a7d660"
      },
      "execution_count": null,
      "outputs": [
        {
          "output_type": "stream",
          "name": "stdout",
          "text": [
            "['blood' 'dates' 'days' 'total_carbs' 'total_protein' 'total_fibre'\n",
            " 'total_fats']\n"
          ]
        }
      ]
    },
    {
      "cell_type": "code",
      "source": [
        "X = mean_values_df[['total_carbs', 'total_protein','total_fibre','total_fats']]\n"
      ],
      "metadata": {
        "id": "42e7oFyc58Gq"
      },
      "execution_count": null,
      "outputs": []
    },
    {
      "cell_type": "code",
      "source": [
        "y = mean_values_df['blood']"
      ],
      "metadata": {
        "id": "I3MY5Ih362e9"
      },
      "execution_count": null,
      "outputs": []
    },
    {
      "cell_type": "code",
      "source": [
        "fig, axs = plt.subplots(4, figsize = (5,5))\n",
        "plt1 = sns.boxplot(mean_values_df['total_carbs'], ax = axs[0])\n",
        "plt2 = sns.boxplot(mean_values_df['total_protein'], ax = axs[1])\n",
        "plt3 = sns.boxplot(mean_values_df['total_fibre'], ax = axs[2])\n",
        "plt4 = sns.boxplot(mean_values_df['total_fats'], ax = axs[3])\n",
        "plt.tight_layout()"
      ],
      "metadata": {
        "colab": {
          "base_uri": "https://localhost:8080/",
          "height": 506
        },
        "id": "CC5P3Sns69El",
        "outputId": "6cbae323-128f-4355-cbf5-fa9a5a8ee9ce"
      },
      "execution_count": null,
      "outputs": [
        {
          "output_type": "display_data",
          "data": {
            "text/plain": [
              "<Figure size 500x500 with 4 Axes>"
            ],
            "image/png": "[encoded data removed]"
          },
          "metadata": {}
        }
      ]
    },
    {
      "cell_type": "code",
      "source": [
        "mean_values_df.drop(columns=['days'],inplace=True)"
      ],
      "metadata": {
        "id": "4RWp_H1yI-XW"
      },
      "execution_count": null,
      "outputs": []
    },
    {
      "cell_type": "code",
      "source": [
        "mean_values_df.drop(columns=['dates'],inplace=True)"
      ],
      "metadata": {
        "id": "h5hZvuF5JQpK"
      },
      "execution_count": null,
      "outputs": []
    },
    {
      "cell_type": "code",
      "source": [
        "print(mean_values_df)"
      ],
      "metadata": {
        "colab": {
          "base_uri": "https://localhost:8080/"
        },
        "id": "Gqc3C9yrJINs",
        "outputId": "9e27396f-6e81-4a38-f620-02509d54ab15"
      },
      "execution_count": null,
      "outputs": [
        {
          "output_type": "stream",
          "name": "stdout",
          "text": [
            "         blood  total_carbs  total_protein  total_fibre  total_fats\n",
            "0   154.868814        142.1           30.3         17.2        21.2\n",
            "1   182.556667        145.7           44.2         29.7        44.2\n",
            "2   191.195208        226.4           49.8         48.9        61.2\n",
            "3   224.264479        144.4           35.2         25.2        38.6\n",
            "4   212.284681        206.1          145.8         33.3        54.0\n",
            "5   203.904667        260.4          117.0         56.1        62.3\n",
            "6   216.347647        196.1           46.1         21.1        41.3\n",
            "7   174.003034        142.1           30.3         17.2        21.2\n",
            "8   201.152292        145.7           44.2         29.7        44.2\n",
            "9   166.131354        226.4           49.8         48.9        61.2\n",
            "10  159.797579        144.4           35.2         25.2        38.6\n",
            "11  170.313936        206.1          145.8         33.3        54.0\n",
            "12  174.570729        260.4          117.0         56.1        62.3\n",
            "13  162.449121        196.1           46.1         21.1        41.3\n",
            "14  160.513563        142.1           30.3         17.2        21.2\n",
            "15  157.097407        145.7           44.2         29.7        44.2\n",
            "16  155.040500        226.4           49.8         48.9        61.2\n",
            "17  139.787917        144.4           35.2         25.2        38.6\n",
            "18  162.178854        206.1          145.8         33.3        54.0\n",
            "19  143.790521        260.4          117.0         56.1        62.3\n",
            "20  151.263958        196.1           46.1         21.1        41.3\n",
            "21  148.971146        142.1           30.3         17.2        21.2\n",
            "22  121.407174        145.7           44.2         29.7        44.2\n"
          ]
        }
      ]
    },
    {
      "cell_type": "code",
      "source": [
        "\n",
        "\n",
        "# assuming 'df' is your dataframe\n",
        "correlations = mean_values_df.corr()\n",
        "\n",
        "# print the correlation matrix\n",
        "print(correlations)\n",
        "\n",
        "# print the correlation between Value and each independent variable\n",
        "print(\"Correlation between blood and total_carbs:\", correlations['blood']['total_carbs'])\n",
        "print(\"Correlation between blood and total_protein:\", correlations['blood']['total_protein'])\n",
        "print(\"Correlation between blood and total_fibre:\", correlations['blood']['total_fibre'])\n",
        "print(\"Correlation between blood and total_fats:\", correlations['blood']['total_fats'])\n"
      ],
      "metadata": {
        "colab": {
          "base_uri": "https://localhost:8080/"
        },
        "id": "kIxwaDXbH787",
        "outputId": "431e65c6-2011-4047-c337-483f2aab3234"
      },
      "execution_count": null,
      "outputs": [
        {
          "output_type": "stream",
          "name": "stdout",
          "text": [
            "                  blood  total_carbs  total_protein  total_fibre  total_fats\n",
            "blood          1.000000     0.153289       0.182876     0.091975    0.172178\n",
            "total_carbs    0.153289     1.000000       0.672178     0.845264    0.835674\n",
            "total_protein  0.182876     0.672178       1.000000     0.545433    0.638688\n",
            "total_fibre    0.091975     0.845264       0.545433     1.000000    0.904504\n",
            "total_fats     0.172178     0.835674       0.638688     0.904504    1.000000\n",
            "Correlation between blood and total_carbs: 0.15328882659397342\n",
            "Correlation between blood and total_protein: 0.18287639329274116\n",
            "Correlation between blood and total_fibre: 0.09197493112017324\n",
            "Correlation between blood and total_fats: 0.17217799486903046\n"
          ]
        }
      ]
    },
    {
      "cell_type": "code",
      "source": [
        "sns.pairplot(mean_values_df, x_vars=['total_carbs', 'total_protein', 'total_fibre', 'total_fats'], y_vars='blood')\n",
        "plt.show()\n"
      ],
      "metadata": {
        "colab": {
          "base_uri": "https://localhost:8080/",
          "height": 268
        },
        "id": "UGnETaqqTwvS",
        "outputId": "2453189d-f467-4316-9be9-4bfbd89c3e20"
      },
      "execution_count": null,
      "outputs": [
        {
          "output_type": "display_data",
          "data": {
            "text/plain": [
              "<Figure size 1000x250 with 4 Axes>"
            ],
            "image/png": "[encoded data removed]"
          },
          "metadata": {}
        }
      ]
    },
    {
      "cell_type": "code",
      "source": [
        "X_train,X_test, y_train, y_test = train_test_split(X, y, test_size = 0.3, random_state = 100)\n"
      ],
      "metadata": {
        "id": "GN8mTAEC9Rd3"
      },
      "execution_count": null,
      "outputs": []
    },
    {
      "cell_type": "code",
      "source": [
        "y_train.shape\n"
      ],
      "metadata": {
        "colab": {
          "base_uri": "https://localhost:8080/"
        },
        "id": "InWGGhSE9c9Z",
        "outputId": "38519d31-e690-4f99-b13a-215ef2001080"
      },
      "execution_count": null,
      "outputs": [
        {
          "output_type": "execute_result",
          "data": {
            "text/plain": [
              "(16,)"
            ]
          },
          "metadata": {},
          "execution_count": 44
        }
      ]
    },
    {
      "cell_type": "code",
      "source": [
        "y_test.shape\n"
      ],
      "metadata": {
        "colab": {
          "base_uri": "https://localhost:8080/"
        },
        "id": "NpNLyVDM9fiC",
        "outputId": "2b9e20e8-ab76-4ca6-9822-ef37e14165bb"
      },
      "execution_count": null,
      "outputs": [
        {
          "output_type": "execute_result",
          "data": {
            "text/plain": [
              "(7,)"
            ]
          },
          "metadata": {},
          "execution_count": 45
        }
      ]
    },
    {
      "cell_type": "code",
      "source": [
        "param_grid_lasso = {\n",
        "    'regressor__alpha': [0.1, 1.0, 10.0],\n",
        "    'regressor__fit_intercept': [True, False]\n",
        "}\n"
      ],
      "metadata": {
        "id": "KBPXyQ7ib5VK"
      },
      "execution_count": null,
      "outputs": []
    },
    {
      "cell_type": "code",
      "source": [
        "pipeline_lasso = Pipeline([\n",
        "    ('scaler', StandardScaler()),\n",
        "    ('regressor', Lasso())\n",
        "])\n"
      ],
      "metadata": {
        "id": "EKVE-xe8cGW2"
      },
      "execution_count": null,
      "outputs": []
    },
    {
      "cell_type": "code",
      "source": [
        "grid_search_lasso = GridSearchCV(pipeline_lasso, param_grid_lasso, cv=5, scoring='neg_mean_squared_error')\n"
      ],
      "metadata": {
        "id": "opM0GDofcIrH"
      },
      "execution_count": null,
      "outputs": []
    },
    {
      "cell_type": "code",
      "source": [
        "grid_search_lasso.fit(X_train, y_train)"
      ],
      "metadata": {
        "colab": {
          "base_uri": "https://localhost:8080/",
          "height": 151
        },
        "id": "ch2xrI7ucSgI",
        "outputId": "ff5292ba-3971-459b-b5eb-21c664f9805a"
      },
      "execution_count": null,
      "outputs": [
        {
          "output_type": "execute_result",
          "data": {
            "text/plain": [
              "GridSearchCV(cv=5,\n",
              "             estimator=Pipeline(steps=[('scaler', StandardScaler()),\n",
              "                                       ('regressor', Lasso())]),\n",
              "             param_grid={'regressor__alpha': [0.1, 1.0, 10.0],\n",
              "                         'regressor__fit_intercept': [True, False]},\n",
              "             scoring='neg_mean_squared_error')"
            ],
            "text/html": [
              "<style>#sk-container-id-1 {color: black;background-color: white;}#sk-container-id-1 pre{padding: 0;}#sk-container-id-1 div.sk-toggleable {background-color: white;}#sk-container-id-1 label.sk-toggleable__label {cursor: pointer;display: block;width: 100%;margin-bottom: 0;padding: 0.3em;box-sizing: border-box;text-align: center;}#sk-container-id-1 label.sk-toggleable__label-arrow:before {content: \"▸\";float: left;margin-right: 0.25em;color: #696969;}#sk-container-id-1 label.sk-toggleable__label-arrow:hover:before {color: black;}#sk-container-id-1 div.sk-estimator:hover label.sk-toggleable__label-arrow:before {color: black;}#sk-container-id-1 div.sk-toggleable__content {max-height: 0;max-width: 0;overflow: hidden;text-align: left;background-color: #f0f8ff;}#sk-container-id-1 div.sk-toggleable__content pre {margin: 0.2em;color: black;border-radius: 0.25em;background-color: #f0f8ff;}#sk-container-id-1 input.sk-toggleable__control:checked~div.sk-toggleable__content {max-height: 200px;max-width: 100%;overflow: auto;}#sk-container-id-1 input.sk-toggleable__control:checked~label.sk-toggleable__label-arrow:before {content: \"▾\";}#sk-container-id-1 div.sk-estimator input.sk-toggleable__control:checked~label.sk-toggleable__label {background-color: #d4ebff;}#sk-container-id-1 div.sk-label input.sk-toggleable__control:checked~label.sk-toggleable__label {background-color: #d4ebff;}#sk-container-id-1 input.sk-hidden--visually {border: 0;clip: rect(1px 1px 1px 1px);clip: rect(1px, 1px, 1px, 1px);height: 1px;margin: -1px;overflow: hidden;padding: 0;position: absolute;width: 1px;}#sk-container-id-1 div.sk-estimator {font-family: monospace;background-color: #f0f8ff;border: 1px dotted black;border-radius: 0.25em;box-sizing: border-box;margin-bottom: 0.5em;}#sk-container-id-1 div.sk-estimator:hover {background-color: #d4ebff;}#sk-container-id-1 div.sk-parallel-item::after {content: \"\";width: 100%;border-bottom: 1px solid gray;flex-grow: 1;}#sk-container-id-1 div.sk-label:hover label.sk-toggleable__label {background-color: #d4ebff;}#sk-container-id-1 div.sk-serial::before {content: \"\";position: absolute;border-left: 1px solid gray;box-sizing: border-box;top: 0;bottom: 0;left: 50%;z-index: 0;}#sk-container-id-1 div.sk-serial {display: flex;flex-direction: column;align-items: center;background-color: white;padding-right: 0.2em;padding-left: 0.2em;position: relative;}#sk-container-id-1 div.sk-item {position: relative;z-index: 1;}#sk-container-id-1 div.sk-parallel {display: flex;align-items: stretch;justify-content: center;background-color: white;position: relative;}#sk-container-id-1 div.sk-item::before, #sk-container-id-1 div.sk-parallel-item::before {content: \"\";position: absolute;border-left: 1px solid gray;box-sizing: border-box;top: 0;bottom: 0;left: 50%;z-index: -1;}#sk-container-id-1 div.sk-parallel-item {display: flex;flex-direction: column;z-index: 1;position: relative;background-color: white;}#sk-container-id-1 div.sk-parallel-item:first-child::after {align-self: flex-end;width: 50%;}#sk-container-id-1 div.sk-parallel-item:last-child::after {align-self: flex-start;width: 50%;}#sk-container-id-1 div.sk-parallel-item:only-child::after {width: 0;}#sk-container-id-1 div.sk-dashed-wrapped {border: 1px dashed gray;margin: 0 0.4em 0.5em 0.4em;box-sizing: border-box;padding-bottom: 0.4em;background-color: white;}#sk-container-id-1 div.sk-label label {font-family: monospace;font-weight: bold;display: inline-block;line-height: 1.2em;}#sk-container-id-1 div.sk-label-container {text-align: center;}#sk-container-id-1 div.sk-container {/* jupyter's `normalize.less` sets `[hidden] { display: none; }` but bootstrap.min.css set `[hidden] { display: none !important; }` so we also need the `!important` here to be able to override the default hidden behavior on the sphinx rendered scikit-learn.org. See: https://github.com/scikit-learn/scikit-learn/issues/21755 */display: inline-block !important;position: relative;}#sk-container-id-1 div.sk-text-repr-fallback {display: none;}</style><div id=\"sk-container-id-1\" class=\"sk-top-container\"><div class=\"sk-text-repr-fallback\"><pre>GridSearchCV(cv=5,\n",
              "             estimator=Pipeline(steps=[(&#x27;scaler&#x27;, StandardScaler()),\n",
              "                                       (&#x27;regressor&#x27;, Lasso())]),\n",
              "             param_grid={&#x27;regressor__alpha&#x27;: [0.1, 1.0, 10.0],\n",
              "                         &#x27;regressor__fit_intercept&#x27;: [True, False]},\n",
              "             scoring=&#x27;neg_mean_squared_error&#x27;)</pre><b>In a Jupyter environment, please rerun this cell to show the HTML representation or trust the notebook. <br />On GitHub, the HTML representation is unable to render, please try loading this page with nbviewer.org.</b></div><div class=\"sk-container\" hidden><div class=\"sk-item sk-dashed-wrapped\"><div class=\"sk-label-container\"><div class=\"sk-label sk-toggleable\"><input class=\"sk-toggleable__control sk-hidden--visually\" id=\"sk-estimator-id-1\" type=\"checkbox\" ><label for=\"sk-estimator-id-1\" class=\"sk-toggleable__label sk-toggleable__label-arrow\">GridSearchCV</label><div class=\"sk-toggleable__content\"><pre>GridSearchCV(cv=5,\n",
              "             estimator=Pipeline(steps=[(&#x27;scaler&#x27;, StandardScaler()),\n",
              "                                       (&#x27;regressor&#x27;, Lasso())]),\n",
              "             param_grid={&#x27;regressor__alpha&#x27;: [0.1, 1.0, 10.0],\n",
              "                         &#x27;regressor__fit_intercept&#x27;: [True, False]},\n",
              "             scoring=&#x27;neg_mean_squared_error&#x27;)</pre></div></div></div><div class=\"sk-parallel\"><div class=\"sk-parallel-item\"><div class=\"sk-item\"><div class=\"sk-label-container\"><div class=\"sk-label sk-toggleable\"><input class=\"sk-toggleable__control sk-hidden--visually\" id=\"sk-estimator-id-2\" type=\"checkbox\" ><label for=\"sk-estimator-id-2\" class=\"sk-toggleable__label sk-toggleable__label-arrow\">estimator: Pipeline</label><div class=\"sk-toggleable__content\"><pre>Pipeline(steps=[(&#x27;scaler&#x27;, StandardScaler()), (&#x27;regressor&#x27;, Lasso())])</pre></div></div></div><div class=\"sk-serial\"><div class=\"sk-item\"><div class=\"sk-serial\"><div class=\"sk-item\"><div class=\"sk-estimator sk-toggleable\"><input class=\"sk-toggleable__control sk-hidden--visually\" id=\"sk-estimator-id-3\" type=\"checkbox\" ><label for=\"sk-estimator-id-3\" class=\"sk-toggleable__label sk-toggleable__label-arrow\">StandardScaler</label><div class=\"sk-toggleable__content\"><pre>StandardScaler()</pre></div></div></div><div class=\"sk-item\"><div class=\"sk-estimator sk-toggleable\"><input class=\"sk-toggleable__control sk-hidden--visually\" id=\"sk-estimator-id-4\" type=\"checkbox\" ><label for=\"sk-estimator-id-4\" class=\"sk-toggleable__label sk-toggleable__label-arrow\">Lasso</label><div class=\"sk-toggleable__content\"><pre>Lasso()</pre></div></div></div></div></div></div></div></div></div></div></div></div>"
            ]
          },
          "metadata": {},
          "execution_count": 54
        }
      ]
    },
    {
      "cell_type": "code",
      "source": [
        "best_model_lasso = grid_search_lasso.best_estimator_\n",
        "y_pred_lasso = best_model_lasso.predict(X_test)\n",
        "mae_lasso = mean_absolute_error(y_test, y_pred_lasso)\n",
        "mse_lasso = mean_squared_error(y_test, y_pred_lasso)\n",
        "rmse_lasso = np.sqrt(mse_lasso)"
      ],
      "metadata": {
        "id": "7q5xVHROcjGS"
      },
      "execution_count": null,
      "outputs": []
    },
    {
      "cell_type": "code",
      "source": [
        "print(\"Lasso Regression:\")\n",
        "print(\"Best parameters:\", grid_search_lasso.best_params_)\n",
        "print('Mean Absolute Error:', mae_lasso)\n",
        "print('Mean Squared Error:', mse_lasso)\n",
        "print('Root Mean Squared Error:', rmse_lasso)"
      ],
      "metadata": {
        "colab": {
          "base_uri": "https://localhost:8080/"
        },
        "id": "KPCsW61EcpEv",
        "outputId": "551aa810-1224-4e4c-c20c-e1aab6c4e62e"
      },
      "execution_count": null,
      "outputs": [
        {
          "output_type": "stream",
          "name": "stdout",
          "text": [
            "Lasso Regression:\n",
            "Best parameters: {'regressor__alpha': 10.0, 'regressor__fit_intercept': True}\n",
            "Mean Absolute Error: 19.903094605671296\n",
            "Mean Squared Error: 626.774109996828\n",
            "Root Mean Squared Error: 25.035457055880325\n"
          ]
        }
      ]
    },
    {
      "cell_type": "code",
      "source": [
        "reg_model_diff = pd.DataFrame({'Actual value': y_test.ravel(), 'Predicted value': y_pred_lasso.ravel()})\n",
        "print(reg_model_diff)\n"
      ],
      "metadata": {
        "id": "ZZOo7xw5ddMA"
      },
      "execution_count": null,
      "outputs": []
    },
    {
      "cell_type": "code",
      "source": [
        "mape0 = np.mean(np.abs((y_test - y_pred_lasso) / y_test)) * 100"
      ],
      "metadata": {
        "id": "KCdzctOXeF6B"
      },
      "execution_count": null,
      "outputs": []
    },
    {
      "cell_type": "code",
      "source": [
        "accuracy = 100 - mape0\n",
        "print(\"Accuracy:\", accuracy)"
      ],
      "metadata": {
        "id": "3LyThwq8eJsW",
        "outputId": "b8d6a87d-ba4e-4e2a-a871-d80c2da2d594",
        "colab": {
          "base_uri": "https://localhost:8080/"
        }
      },
      "execution_count": null,
      "outputs": [
        {
          "output_type": "stream",
          "name": "stdout",
          "text": [
            "Accuracy: 87.77105896159247\n"
          ]
        }
      ]
    },
    {
      "cell_type": "code",
      "source": [
        "param_grid_ridge = {\n",
        "    'regressor__alpha': [0.1, 1.0, 10.0],\n",
        "    'regressor__fit_intercept': [True, False]\n",
        "}\n"
      ],
      "metadata": {
        "id": "VsEGQXTocsTm"
      },
      "execution_count": null,
      "outputs": []
    },
    {
      "cell_type": "code",
      "source": [
        "pipeline_ridge = Pipeline([\n",
        "    ('scaler', StandardScaler()),\n",
        "    ('regressor', Ridge())\n",
        "])"
      ],
      "metadata": {
        "id": "5s3sf8LKc64B"
      },
      "execution_count": null,
      "outputs": []
    },
    {
      "cell_type": "code",
      "source": [
        "grid_search_ridge = GridSearchCV(pipeline_ridge, param_grid_ridge, cv=5, scoring='neg_mean_squared_error')"
      ],
      "metadata": {
        "id": "zrn0we64c9u7"
      },
      "execution_count": null,
      "outputs": []
    },
    {
      "cell_type": "code",
      "source": [
        "grid_search_ridge.fit(X_train, y_train)"
      ],
      "metadata": {
        "colab": {
          "base_uri": "https://localhost:8080/",
          "height": 151
        },
        "id": "3Wp6MY9UdANa",
        "outputId": "fe0d4eb0-3431-4f9e-c11e-47f45111c1d8"
      },
      "execution_count": null,
      "outputs": [
        {
          "output_type": "execute_result",
          "data": {
            "text/plain": [
              "GridSearchCV(cv=5,\n",
              "             estimator=Pipeline(steps=[('scaler', StandardScaler()),\n",
              "                                       ('regressor', Ridge())]),\n",
              "             param_grid={'regressor__alpha': [0.1, 1.0, 10.0],\n",
              "                         'regressor__fit_intercept': [True, False]},\n",
              "             scoring='neg_mean_squared_error')"
            ],
            "text/html": [
              "<style>#sk-container-id-2 {color: black;background-color: white;}#sk-container-id-2 pre{padding: 0;}#sk-container-id-2 div.sk-toggleable {background-color: white;}#sk-container-id-2 label.sk-toggleable__label {cursor: pointer;display: block;width: 100%;margin-bottom: 0;padding: 0.3em;box-sizing: border-box;text-align: center;}#sk-container-id-2 label.sk-toggleable__label-arrow:before {content: \"▸\";float: left;margin-right: 0.25em;color: #696969;}#sk-container-id-2 label.sk-toggleable__label-arrow:hover:before {color: black;}#sk-container-id-2 div.sk-estimator:hover label.sk-toggleable__label-arrow:before {color: black;}#sk-container-id-2 div.sk-toggleable__content {max-height: 0;max-width: 0;overflow: hidden;text-align: left;background-color: #f0f8ff;}#sk-container-id-2 div.sk-toggleable__content pre {margin: 0.2em;color: black;border-radius: 0.25em;background-color: #f0f8ff;}#sk-container-id-2 input.sk-toggleable__control:checked~div.sk-toggleable__content {max-height: 200px;max-width: 100%;overflow: auto;}#sk-container-id-2 input.sk-toggleable__control:checked~label.sk-toggleable__label-arrow:before {content: \"▾\";}#sk-container-id-2 div.sk-estimator input.sk-toggleable__control:checked~label.sk-toggleable__label {background-color: #d4ebff;}#sk-container-id-2 div.sk-label input.sk-toggleable__control:checked~label.sk-toggleable__label {background-color: #d4ebff;}#sk-container-id-2 input.sk-hidden--visually {border: 0;clip: rect(1px 1px 1px 1px);clip: rect(1px, 1px, 1px, 1px);height: 1px;margin: -1px;overflow: hidden;padding: 0;position: absolute;width: 1px;}#sk-container-id-2 div.sk-estimator {font-family: monospace;background-color: #f0f8ff;border: 1px dotted black;border-radius: 0.25em;box-sizing: border-box;margin-bottom: 0.5em;}#sk-container-id-2 div.sk-estimator:hover {background-color: #d4ebff;}#sk-container-id-2 div.sk-parallel-item::after {content: \"\";width: 100%;border-bottom: 1px solid gray;flex-grow: 1;}#sk-container-id-2 div.sk-label:hover label.sk-toggleable__label {background-color: #d4ebff;}#sk-container-id-2 div.sk-serial::before {content: \"\";position: absolute;border-left: 1px solid gray;box-sizing: border-box;top: 0;bottom: 0;left: 50%;z-index: 0;}#sk-container-id-2 div.sk-serial {display: flex;flex-direction: column;align-items: center;background-color: white;padding-right: 0.2em;padding-left: 0.2em;position: relative;}#sk-container-id-2 div.sk-item {position: relative;z-index: 1;}#sk-container-id-2 div.sk-parallel {display: flex;align-items: stretch;justify-content: center;background-color: white;position: relative;}#sk-container-id-2 div.sk-item::before, #sk-container-id-2 div.sk-parallel-item::before {content: \"\";position: absolute;border-left: 1px solid gray;box-sizing: border-box;top: 0;bottom: 0;left: 50%;z-index: -1;}#sk-container-id-2 div.sk-parallel-item {display: flex;flex-direction: column;z-index: 1;position: relative;background-color: white;}#sk-container-id-2 div.sk-parallel-item:first-child::after {align-self: flex-end;width: 50%;}#sk-container-id-2 div.sk-parallel-item:last-child::after {align-self: flex-start;width: 50%;}#sk-container-id-2 div.sk-parallel-item:only-child::after {width: 0;}#sk-container-id-2 div.sk-dashed-wrapped {border: 1px dashed gray;margin: 0 0.4em 0.5em 0.4em;box-sizing: border-box;padding-bottom: 0.4em;background-color: white;}#sk-container-id-2 div.sk-label label {font-family: monospace;font-weight: bold;display: inline-block;line-height: 1.2em;}#sk-container-id-2 div.sk-label-container {text-align: center;}#sk-container-id-2 div.sk-container {/* jupyter's `normalize.less` sets `[hidden] { display: none; }` but bootstrap.min.css set `[hidden] { display: none !important; }` so we also need the `!important` here to be able to override the default hidden behavior on the sphinx rendered scikit-learn.org. See: https://github.com/scikit-learn/scikit-learn/issues/21755 */display: inline-block !important;position: relative;}#sk-container-id-2 div.sk-text-repr-fallback {display: none;}</style><div id=\"sk-container-id-2\" class=\"sk-top-container\"><div class=\"sk-text-repr-fallback\"><pre>GridSearchCV(cv=5,\n",
              "             estimator=Pipeline(steps=[(&#x27;scaler&#x27;, StandardScaler()),\n",
              "                                       (&#x27;regressor&#x27;, Ridge())]),\n",
              "             param_grid={&#x27;regressor__alpha&#x27;: [0.1, 1.0, 10.0],\n",
              "                         &#x27;regressor__fit_intercept&#x27;: [True, False]},\n",
              "             scoring=&#x27;neg_mean_squared_error&#x27;)</pre><b>In a Jupyter environment, please rerun this cell to show the HTML representation or trust the notebook. <br />On GitHub, the HTML representation is unable to render, please try loading this page with nbviewer.org.</b></div><div class=\"sk-container\" hidden><div class=\"sk-item sk-dashed-wrapped\"><div class=\"sk-label-container\"><div class=\"sk-label sk-toggleable\"><input class=\"sk-toggleable__control sk-hidden--visually\" id=\"sk-estimator-id-5\" type=\"checkbox\" ><label for=\"sk-estimator-id-5\" class=\"sk-toggleable__label sk-toggleable__label-arrow\">GridSearchCV</label><div class=\"sk-toggleable__content\"><pre>GridSearchCV(cv=5,\n",
              "             estimator=Pipeline(steps=[(&#x27;scaler&#x27;, StandardScaler()),\n",
              "                                       (&#x27;regressor&#x27;, Ridge())]),\n",
              "             param_grid={&#x27;regressor__alpha&#x27;: [0.1, 1.0, 10.0],\n",
              "                         &#x27;regressor__fit_intercept&#x27;: [True, False]},\n",
              "             scoring=&#x27;neg_mean_squared_error&#x27;)</pre></div></div></div><div class=\"sk-parallel\"><div class=\"sk-parallel-item\"><div class=\"sk-item\"><div class=\"sk-label-container\"><div class=\"sk-label sk-toggleable\"><input class=\"sk-toggleable__control sk-hidden--visually\" id=\"sk-estimator-id-6\" type=\"checkbox\" ><label for=\"sk-estimator-id-6\" class=\"sk-toggleable__label sk-toggleable__label-arrow\">estimator: Pipeline</label><div class=\"sk-toggleable__content\"><pre>Pipeline(steps=[(&#x27;scaler&#x27;, StandardScaler()), (&#x27;regressor&#x27;, Ridge())])</pre></div></div></div><div class=\"sk-serial\"><div class=\"sk-item\"><div class=\"sk-serial\"><div class=\"sk-item\"><div class=\"sk-estimator sk-toggleable\"><input class=\"sk-toggleable__control sk-hidden--visually\" id=\"sk-estimator-id-7\" type=\"checkbox\" ><label for=\"sk-estimator-id-7\" class=\"sk-toggleable__label sk-toggleable__label-arrow\">StandardScaler</label><div class=\"sk-toggleable__content\"><pre>StandardScaler()</pre></div></div></div><div class=\"sk-item\"><div class=\"sk-estimator sk-toggleable\"><input class=\"sk-toggleable__control sk-hidden--visually\" id=\"sk-estimator-id-8\" type=\"checkbox\" ><label for=\"sk-estimator-id-8\" class=\"sk-toggleable__label sk-toggleable__label-arrow\">Ridge</label><div class=\"sk-toggleable__content\"><pre>Ridge()</pre></div></div></div></div></div></div></div></div></div></div></div></div>"
            ]
          },
          "metadata": {},
          "execution_count": 60
        }
      ]
    },
    {
      "cell_type": "code",
      "source": [
        "best_model_ridge = grid_search_ridge.best_estimator_\n",
        "y_pred_ridge = best_model_ridge.predict(X_test)\n",
        "mae_ridge = mean_absolute_error(y_test, y_pred_ridge)\n",
        "mse_ridge = mean_squared_error(y_test, y_pred_ridge)\n",
        "rmse_ridge = np.sqrt(mse_ridge)\n",
        "\n",
        "print(\"Ridge Regression:\")\n",
        "print(\"Best parameters:\", grid_search_ridge.best_params_)\n",
        "print('Mean Absolute Error:', mae_ridge)\n",
        "print('Mean Squared Error:', mse_ridge)\n",
        "print('Root Mean Squared Error:', rmse_ridge)"
      ],
      "metadata": {
        "colab": {
          "base_uri": "https://localhost:8080/"
        },
        "id": "Swmzntj6dCm4",
        "outputId": "7ea60912-9cd5-4fae-dd30-0d73177b965e"
      },
      "execution_count": null,
      "outputs": [
        {
          "output_type": "stream",
          "name": "stdout",
          "text": [
            "Ridge Regression:\n",
            "Best parameters: {'regressor__alpha': 10.0, 'regressor__fit_intercept': True}\n",
            "Mean Absolute Error: 26.036531926834936\n",
            "Mean Squared Error: 848.6108449369848\n",
            "Root Mean Squared Error: 29.130925919664566\n"
          ]
        }
      ]
    },
    {
      "cell_type": "code",
      "source": [
        "reg_model_diff = pd.DataFrame({'Actual value': y_test.ravel(), 'Predicted value': y_pred_ridge.ravel()})\n",
        "print(reg_model_diff)\n"
      ],
      "metadata": {
        "colab": {
          "base_uri": "https://localhost:8080/"
        },
        "id": "lq8ta6xidFiD",
        "outputId": "b2fd6173-0be9-4f14-b780-8888e4417cda"
      },
      "execution_count": null,
      "outputs": [
        {
          "output_type": "stream",
          "name": "stdout",
          "text": [
            "   Actual value  Predicted value\n",
            "0    216.347647       171.132006\n",
            "1    143.790521       188.922395\n",
            "2    170.313936       184.634720\n",
            "3    151.263958       171.132006\n",
            "4    139.787917       168.980501\n",
            "5    174.570729       188.922395\n",
            "6    166.131354       180.306481\n"
          ]
        }
      ]
    },
    {
      "cell_type": "code",
      "source": [
        "mape = np.mean(np.abs((y_test - y_pred_ridge) / y_test)) * 100"
      ],
      "metadata": {
        "id": "CGBnTRrYdYf4"
      },
      "execution_count": null,
      "outputs": []
    },
    {
      "cell_type": "code",
      "source": [
        "accuracy = 100 - mape\n",
        "print(\"Accuracy:\", accuracy)"
      ],
      "metadata": {
        "colab": {
          "base_uri": "https://localhost:8080/"
        },
        "id": "GyYLc5tXd86Z",
        "outputId": "b7c8accd-c607-407e-921f-6bb903496b31"
      },
      "execution_count": null,
      "outputs": [
        {
          "output_type": "stream",
          "name": "stdout",
          "text": [
            "Accuracy: 84.07614288039461\n"
          ]
        }
      ]
    },
    {
      "cell_type": "code",
      "source": [],
      "metadata": {
        "id": "lJxWLR5XeAH7"
      },
      "execution_count": null,
      "outputs": []
    }
  ]
}